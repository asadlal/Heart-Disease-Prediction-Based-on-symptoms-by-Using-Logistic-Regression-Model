{
 "cells": [
  {
   "cell_type": "code",
   "execution_count": 20,
   "id": "fdd7096b",
   "metadata": {},
   "outputs": [],
   "source": [
    "import pickle\n",
    "import numpy as np\n",
    "import pandas as pd\n",
    "from sklearn.model_selection import train_test_split, cross_val_score, StratifiedKFold\n",
    "from sklearn.linear_model import LogisticRegression\n",
    "from sklearn.metrics import accuracy_score, precision_score, recall_score, f1_score, roc_auc_score\n",
    "from sklearn.preprocessing import StandardScaler\n",
    "from sklearn.pipeline import Pipeline\n"
   ]
  },
  {
   "cell_type": "code",
   "execution_count": 21,
   "id": "7ac62d5b",
   "metadata": {},
   "outputs": [],
   "source": [
    "# Loading the CSV data into a Pandas DataFrame\n",
    "heart_data = pd.read_csv(\"Dataset.csv\")"
   ]
  },
  {
   "cell_type": "code",
   "execution_count": 22,
   "id": "1b129354",
   "metadata": {},
   "outputs": [
    {
     "name": "stdout",
     "output_type": "stream",
     "text": [
      "   age  sex  chest_pain  resting_blood_pressure  heartbeat_rate  \\\n",
      "0   63    1           3                     145             105   \n",
      "1   37    1           2                     130              76   \n",
      "2   41    0           1                     130             106   \n",
      "3   56    1           1                     120             107   \n",
      "4   57    0           0                     120             107   \n",
      "\n",
      "   fasting_blood_sugar  maximum_heart_rate  exercise_induced_angina  target  \n",
      "0                    1                 150                        1       1  \n",
      "1                    0                 187                        0       1  \n",
      "2                    0                 172                        0       1  \n",
      "3                    0                 178                        0       1  \n",
      "4                    1                 163                        1       1  \n"
     ]
    }
   ],
   "source": [
    "# Displaying the first 5 rows of the dataset\n",
    "print(heart_data.head())"
   ]
  },
  {
   "cell_type": "code",
   "execution_count": 23,
   "id": "2001ec1f",
   "metadata": {},
   "outputs": [
    {
     "name": "stdout",
     "output_type": "stream",
     "text": [
      "     age  sex  chest_pain  resting_blood_pressure  heartbeat_rate  \\\n",
      "303   25    1           0                     120              72   \n",
      "304   30    0           0                     130              90   \n",
      "305   40    0           3                     120              72   \n",
      "306   34    1           1                     120              90   \n",
      "307   30    0           1                     120              80   \n",
      "\n",
      "     fasting_blood_sugar  maximum_heart_rate  exercise_induced_angina  target  \n",
      "303                    0                 150                        0       0  \n",
      "304                    0                 160                        0       0  \n",
      "305                    1                 140                        0       0  \n",
      "306                    1                 170                        1       1  \n",
      "307                    1                 160                        1       1  \n"
     ]
    }
   ],
   "source": [
    "# Displaying the last 5 rows of the dataset\n",
    "print(heart_data.tail())"
   ]
  },
  {
   "cell_type": "code",
   "execution_count": 24,
   "id": "eca58f4d",
   "metadata": {},
   "outputs": [
    {
     "name": "stdout",
     "output_type": "stream",
     "text": [
      "(308, 9)\n"
     ]
    }
   ],
   "source": [
    "# Displaying the number of rows and columns in the dataset\n",
    "print(heart_data.shape)"
   ]
  },
  {
   "cell_type": "code",
   "execution_count": 25,
   "id": "c1060db7",
   "metadata": {},
   "outputs": [
    {
     "name": "stdout",
     "output_type": "stream",
     "text": [
      "<class 'pandas.core.frame.DataFrame'>\n",
      "RangeIndex: 308 entries, 0 to 307\n",
      "Data columns (total 9 columns):\n",
      " #   Column                   Non-Null Count  Dtype\n",
      "---  ------                   --------------  -----\n",
      " 0   age                      308 non-null    int64\n",
      " 1   sex                      308 non-null    int64\n",
      " 2   chest_pain               308 non-null    int64\n",
      " 3   resting_blood_pressure   308 non-null    int64\n",
      " 4   heartbeat_rate           308 non-null    int64\n",
      " 5   fasting_blood_sugar      308 non-null    int64\n",
      " 6   maximum_heart_rate       308 non-null    int64\n",
      " 7   exercise_induced_angina  308 non-null    int64\n",
      " 8   target                   308 non-null    int64\n",
      "dtypes: int64(9)\n",
      "memory usage: 21.8 KB\n",
      "None\n"
     ]
    }
   ],
   "source": [
    "# Getting some info about the data\n",
    "print(heart_data.info())"
   ]
  },
  {
   "cell_type": "code",
   "execution_count": 26,
   "id": "a08d871f",
   "metadata": {},
   "outputs": [
    {
     "name": "stdout",
     "output_type": "stream",
     "text": [
      "age                        0\n",
      "sex                        0\n",
      "chest_pain                 0\n",
      "resting_blood_pressure     0\n",
      "heartbeat_rate             0\n",
      "fasting_blood_sugar        0\n",
      "maximum_heart_rate         0\n",
      "exercise_induced_angina    0\n",
      "target                     0\n",
      "dtype: int64\n"
     ]
    }
   ],
   "source": [
    "# Checking for missing values\n",
    "print(heart_data.isnull().sum())"
   ]
  },
  {
   "cell_type": "code",
   "execution_count": 27,
   "id": "a382eaf8",
   "metadata": {},
   "outputs": [
    {
     "name": "stdout",
     "output_type": "stream",
     "text": [
      "             age         sex  chest_pain  resting_blood_pressure  \\\n",
      "count  308.00000  308.000000  308.000000              308.000000   \n",
      "mean    54.00000    0.678571    0.974026              131.639610   \n",
      "std      9.47137    0.467785    1.033309               17.405211   \n",
      "min     25.00000    0.000000    0.000000               94.000000   \n",
      "25%     47.00000    0.000000    0.000000              120.000000   \n",
      "50%     55.00000    1.000000    1.000000              130.000000   \n",
      "75%     61.00000    1.000000    2.000000              140.000000   \n",
      "max     77.00000    1.000000    3.000000              200.000000   \n",
      "\n",
      "       heartbeat_rate  fasting_blood_sugar  maximum_heart_rate  \\\n",
      "count      308.000000           308.000000          308.000000   \n",
      "mean        95.370130             0.162338          149.805195   \n",
      "std         20.819513             0.369360           22.337820   \n",
      "min         63.000000             0.000000           71.000000   \n",
      "25%         73.750000             0.000000          136.000000   \n",
      "50%        106.000000             0.000000          153.000000   \n",
      "75%        113.000000             0.000000          166.000000   \n",
      "max        132.000000             1.000000          195.000000   \n",
      "\n",
      "       exercise_induced_angina      target  \n",
      "count               308.000000  308.000000  \n",
      "mean                  0.347403    0.542208  \n",
      "std                   0.476920    0.499026  \n",
      "min                   0.000000    0.000000  \n",
      "25%                   0.000000    0.000000  \n",
      "50%                   0.000000    1.000000  \n",
      "75%                   1.000000    1.000000  \n",
      "max                   1.000000    1.000000  \n"
     ]
    }
   ],
   "source": [
    "# Statistical measures about the data\n",
    "print(heart_data.describe())"
   ]
  },
  {
   "cell_type": "code",
   "execution_count": 28,
   "id": "2f9a0c63",
   "metadata": {},
   "outputs": [
    {
     "name": "stdout",
     "output_type": "stream",
     "text": [
      "target\n",
      "1    167\n",
      "0    141\n",
      "Name: count, dtype: int64\n"
     ]
    }
   ],
   "source": [
    "# Checking the distribution of the target variable\n",
    "print(heart_data['target'].value_counts())"
   ]
  },
  {
   "cell_type": "code",
   "execution_count": 29,
   "id": "9f3b9a24",
   "metadata": {},
   "outputs": [],
   "source": [
    "# Splitting the features and target\n",
    "X = heart_data.drop(columns='target', axis=1)\n",
    "Y = heart_data['target']"
   ]
  },
  {
   "cell_type": "code",
   "execution_count": 30,
   "id": "c0ba9712",
   "metadata": {},
   "outputs": [
    {
     "name": "stdout",
     "output_type": "stream",
     "text": [
      "     age  sex  chest_pain  resting_blood_pressure  heartbeat_rate  \\\n",
      "0     63    1           3                     145             105   \n",
      "1     37    1           2                     130              76   \n",
      "2     41    0           1                     130             106   \n",
      "3     56    1           1                     120             107   \n",
      "4     57    0           0                     120             107   \n",
      "..   ...  ...         ...                     ...             ...   \n",
      "303   25    1           0                     120              72   \n",
      "304   30    0           0                     130              90   \n",
      "305   40    0           3                     120              72   \n",
      "306   34    1           1                     120              90   \n",
      "307   30    0           1                     120              80   \n",
      "\n",
      "     fasting_blood_sugar  maximum_heart_rate  exercise_induced_angina  \n",
      "0                      1                 150                        1  \n",
      "1                      0                 187                        0  \n",
      "2                      0                 172                        0  \n",
      "3                      0                 178                        0  \n",
      "4                      1                 163                        1  \n",
      "..                   ...                 ...                      ...  \n",
      "303                    0                 150                        0  \n",
      "304                    0                 160                        0  \n",
      "305                    1                 140                        0  \n",
      "306                    1                 170                        1  \n",
      "307                    1                 160                        1  \n",
      "\n",
      "[308 rows x 8 columns]\n"
     ]
    }
   ],
   "source": [
    "print(X)"
   ]
  },
  {
   "cell_type": "code",
   "execution_count": 31,
   "id": "6764c5c5",
   "metadata": {},
   "outputs": [
    {
     "name": "stdout",
     "output_type": "stream",
     "text": [
      "0      1\n",
      "1      1\n",
      "2      1\n",
      "3      1\n",
      "4      1\n",
      "      ..\n",
      "303    0\n",
      "304    0\n",
      "305    0\n",
      "306    1\n",
      "307    1\n",
      "Name: target, Length: 308, dtype: int64\n"
     ]
    }
   ],
   "source": [
    "print(Y)"
   ]
  },
  {
   "cell_type": "code",
   "execution_count": 32,
   "id": "2359c53e",
   "metadata": {},
   "outputs": [
    {
     "name": "stdout",
     "output_type": "stream",
     "text": [
      "(308, 8) (246, 8) (62, 8)\n"
     ]
    }
   ],
   "source": [
    "# Splitting the data into training and test sets\n",
    "X_train, X_test, Y_train, Y_test = train_test_split(X, Y, test_size=0.2, stratify=Y, random_state=2)\n",
    "print(X.shape, X_train.shape, X_test.shape)"
   ]
  },
  {
   "cell_type": "code",
   "execution_count": 33,
   "id": "eaa18f5a",
   "metadata": {},
   "outputs": [],
   "source": [
    "# Creating a pipeline for preprocessing and model training\n",
    "pipeline = Pipeline([\n",
    "    ('scaler', StandardScaler()),  # Feature scaling\n",
    "    ('model', LogisticRegression())  # Logistic Regression model\n",
    "])"
   ]
  },
  {
   "cell_type": "code",
   "execution_count": 34,
   "id": "c6159be3",
   "metadata": {},
   "outputs": [
    {
     "name": "stdout",
     "output_type": "stream",
     "text": [
      "Cross-validation accuracy: 0.9754999999999999\n"
     ]
    }
   ],
   "source": [
    "# Model training with cross-validation\n",
    "kfold = StratifiedKFold(n_splits=10, shuffle=True, random_state=2)\n",
    "cross_val_results = cross_val_score(pipeline, X_train, Y_train, cv=kfold, scoring='accuracy')\n",
    "print(f'Cross-validation accuracy: {cross_val_results.mean()}')"
   ]
  },
  {
   "cell_type": "code",
   "execution_count": 35,
   "id": "362afc2d",
   "metadata": {},
   "outputs": [
    {
     "data": {
      "text/html": [
       "<style>#sk-container-id-2 {color: black;}#sk-container-id-2 pre{padding: 0;}#sk-container-id-2 div.sk-toggleable {background-color: white;}#sk-container-id-2 label.sk-toggleable__label {cursor: pointer;display: block;width: 100%;margin-bottom: 0;padding: 0.3em;box-sizing: border-box;text-align: center;}#sk-container-id-2 label.sk-toggleable__label-arrow:before {content: \"▸\";float: left;margin-right: 0.25em;color: #696969;}#sk-container-id-2 label.sk-toggleable__label-arrow:hover:before {color: black;}#sk-container-id-2 div.sk-estimator:hover label.sk-toggleable__label-arrow:before {color: black;}#sk-container-id-2 div.sk-toggleable__content {max-height: 0;max-width: 0;overflow: hidden;text-align: left;background-color: #f0f8ff;}#sk-container-id-2 div.sk-toggleable__content pre {margin: 0.2em;color: black;border-radius: 0.25em;background-color: #f0f8ff;}#sk-container-id-2 input.sk-toggleable__control:checked~div.sk-toggleable__content {max-height: 200px;max-width: 100%;overflow: auto;}#sk-container-id-2 input.sk-toggleable__control:checked~label.sk-toggleable__label-arrow:before {content: \"▾\";}#sk-container-id-2 div.sk-estimator input.sk-toggleable__control:checked~label.sk-toggleable__label {background-color: #d4ebff;}#sk-container-id-2 div.sk-label input.sk-toggleable__control:checked~label.sk-toggleable__label {background-color: #d4ebff;}#sk-container-id-2 input.sk-hidden--visually {border: 0;clip: rect(1px 1px 1px 1px);clip: rect(1px, 1px, 1px, 1px);height: 1px;margin: -1px;overflow: hidden;padding: 0;position: absolute;width: 1px;}#sk-container-id-2 div.sk-estimator {font-family: monospace;background-color: #f0f8ff;border: 1px dotted black;border-radius: 0.25em;box-sizing: border-box;margin-bottom: 0.5em;}#sk-container-id-2 div.sk-estimator:hover {background-color: #d4ebff;}#sk-container-id-2 div.sk-parallel-item::after {content: \"\";width: 100%;border-bottom: 1px solid gray;flex-grow: 1;}#sk-container-id-2 div.sk-label:hover label.sk-toggleable__label {background-color: #d4ebff;}#sk-container-id-2 div.sk-serial::before {content: \"\";position: absolute;border-left: 1px solid gray;box-sizing: border-box;top: 0;bottom: 0;left: 50%;z-index: 0;}#sk-container-id-2 div.sk-serial {display: flex;flex-direction: column;align-items: center;background-color: white;padding-right: 0.2em;padding-left: 0.2em;position: relative;}#sk-container-id-2 div.sk-item {position: relative;z-index: 1;}#sk-container-id-2 div.sk-parallel {display: flex;align-items: stretch;justify-content: center;background-color: white;position: relative;}#sk-container-id-2 div.sk-item::before, #sk-container-id-2 div.sk-parallel-item::before {content: \"\";position: absolute;border-left: 1px solid gray;box-sizing: border-box;top: 0;bottom: 0;left: 50%;z-index: -1;}#sk-container-id-2 div.sk-parallel-item {display: flex;flex-direction: column;z-index: 1;position: relative;background-color: white;}#sk-container-id-2 div.sk-parallel-item:first-child::after {align-self: flex-end;width: 50%;}#sk-container-id-2 div.sk-parallel-item:last-child::after {align-self: flex-start;width: 50%;}#sk-container-id-2 div.sk-parallel-item:only-child::after {width: 0;}#sk-container-id-2 div.sk-dashed-wrapped {border: 1px dashed gray;margin: 0 0.4em 0.5em 0.4em;box-sizing: border-box;padding-bottom: 0.4em;background-color: white;}#sk-container-id-2 div.sk-label label {font-family: monospace;font-weight: bold;display: inline-block;line-height: 1.2em;}#sk-container-id-2 div.sk-label-container {text-align: center;}#sk-container-id-2 div.sk-container {/* jupyter's `normalize.less` sets `[hidden] { display: none; }` but bootstrap.min.css set `[hidden] { display: none !important; }` so we also need the `!important` here to be able to override the default hidden behavior on the sphinx rendered scikit-learn.org. See: https://github.com/scikit-learn/scikit-learn/issues/21755 */display: inline-block !important;position: relative;}#sk-container-id-2 div.sk-text-repr-fallback {display: none;}</style><div id=\"sk-container-id-2\" class=\"sk-top-container\"><div class=\"sk-text-repr-fallback\"><pre>Pipeline(steps=[(&#x27;scaler&#x27;, StandardScaler()), (&#x27;model&#x27;, LogisticRegression())])</pre><b>In a Jupyter environment, please rerun this cell to show the HTML representation or trust the notebook. <br />On GitHub, the HTML representation is unable to render, please try loading this page with nbviewer.org.</b></div><div class=\"sk-container\" hidden><div class=\"sk-item sk-dashed-wrapped\"><div class=\"sk-label-container\"><div class=\"sk-label sk-toggleable\"><input class=\"sk-toggleable__control sk-hidden--visually\" id=\"sk-estimator-id-4\" type=\"checkbox\" ><label for=\"sk-estimator-id-4\" class=\"sk-toggleable__label sk-toggleable__label-arrow\">Pipeline</label><div class=\"sk-toggleable__content\"><pre>Pipeline(steps=[(&#x27;scaler&#x27;, StandardScaler()), (&#x27;model&#x27;, LogisticRegression())])</pre></div></div></div><div class=\"sk-serial\"><div class=\"sk-item\"><div class=\"sk-estimator sk-toggleable\"><input class=\"sk-toggleable__control sk-hidden--visually\" id=\"sk-estimator-id-5\" type=\"checkbox\" ><label for=\"sk-estimator-id-5\" class=\"sk-toggleable__label sk-toggleable__label-arrow\">StandardScaler</label><div class=\"sk-toggleable__content\"><pre>StandardScaler()</pre></div></div></div><div class=\"sk-item\"><div class=\"sk-estimator sk-toggleable\"><input class=\"sk-toggleable__control sk-hidden--visually\" id=\"sk-estimator-id-6\" type=\"checkbox\" ><label for=\"sk-estimator-id-6\" class=\"sk-toggleable__label sk-toggleable__label-arrow\">LogisticRegression</label><div class=\"sk-toggleable__content\"><pre>LogisticRegression()</pre></div></div></div></div></div></div></div>"
      ],
      "text/plain": [
       "Pipeline(steps=[('scaler', StandardScaler()), ('model', LogisticRegression())])"
      ]
     },
     "execution_count": 35,
     "metadata": {},
     "output_type": "execute_result"
    }
   ],
   "source": [
    "# Training the logistic regression model with training data\n",
    "pipeline.fit(X_train, Y_train)"
   ]
  },
  {
   "cell_type": "code",
   "execution_count": 36,
   "id": "e799d514",
   "metadata": {},
   "outputs": [
    {
     "name": "stdout",
     "output_type": "stream",
     "text": [
      "Accuracy on training data: 0.983739837398374\n",
      "Accuracy on test data: 0.9354838709677419\n"
     ]
    }
   ],
   "source": [
    "# Model evaluation\n",
    "X_train_prediction = pipeline.predict(X_train)\n",
    "X_test_prediction = pipeline.predict(X_test)\n",
    "\n",
    "training_data_accuracy = accuracy_score(Y_train, X_train_prediction)\n",
    "test_data_accuracy = accuracy_score(Y_test, X_test_prediction)\n",
    "\n",
    "print(f'Accuracy on training data: {training_data_accuracy}')\n",
    "print(f'Accuracy on test data: {test_data_accuracy}')"
   ]
  },
  {
   "cell_type": "code",
   "execution_count": 37,
   "id": "f2bf5c28",
   "metadata": {},
   "outputs": [
    {
     "name": "stdout",
     "output_type": "stream",
     "text": [
      "Precision: 1.0\n",
      "Recall: 0.8823529411764706\n",
      "F1 Score: 0.9375\n",
      "ROC-AUC Score: 0.9684873949579832\n"
     ]
    }
   ],
   "source": [
    "# Additional evaluation metrics\n",
    "precision = precision_score(Y_test, X_test_prediction)\n",
    "recall = recall_score(Y_test, X_test_prediction)\n",
    "f1 = f1_score(Y_test, X_test_prediction)\n",
    "roc_auc = roc_auc_score(Y_test, pipeline.predict_proba(X_test)[:, 1])\n",
    "\n",
    "print(f'Precision: {precision}')\n",
    "print(f'Recall: {recall}')\n",
    "print(f'F1 Score: {f1}')\n",
    "print(f'ROC-AUC Score: {roc_auc}')"
   ]
  },
  {
   "cell_type": "code",
   "execution_count": 38,
   "id": "4cf3bb59",
   "metadata": {},
   "outputs": [],
   "source": [
    "# Saving the trained model\n",
    "pickle.dump(pipeline, open('model.pkl', 'wb'))"
   ]
  }
 ],
 "metadata": {
  "kernelspec": {
   "display_name": "Python 3 (ipykernel)",
   "language": "python",
   "name": "python3"
  },
  "language_info": {
   "codemirror_mode": {
    "name": "ipython",
    "version": 3
   },
   "file_extension": ".py",
   "mimetype": "text/x-python",
   "name": "python",
   "nbconvert_exporter": "python",
   "pygments_lexer": "ipython3",
   "version": "3.11.5"
  }
 },
 "nbformat": 4,
 "nbformat_minor": 5
}
